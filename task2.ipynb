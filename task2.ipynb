{
  "nbformat": 4,
  "nbformat_minor": 0,
  "metadata": {
    "colab": {
      "provenance": []
    },
    "kernelspec": {
      "name": "python3",
      "display_name": "Python 3"
    },
    "language_info": {
      "name": "python"
    }
  },
  "cells": [
    {
      "cell_type": "code",
      "execution_count": null,
      "metadata": {
        "colab": {
          "base_uri": "https://localhost:8080/"
        },
        "id": "uda8g6A4QyHU",
        "outputId": "4f0d1e84-9ba9-4d8e-c53b-7f60f5f33dd4"
      },
      "outputs": [
        {
          "output_type": "stream",
          "name": "stdout",
          "text": [
            "Mounted at /content/drive\n"
          ]
        }
      ],
      "source": [
        "from google.colab import drive\n",
        "drive.mount('/content/drive')"
      ]
    },
    {
      "cell_type": "code",
      "source": [
        "import numpy as np\n",
        "\n",
        "data = np.load(\"/content/drive/MyDrive/Gsoc_dance/mariel_betternot_and_retrograde.npy\")\n",
        "\n",
        "data -= data[0, :, :].reshape(1, -1, 3)\n",
        "\n",
        "# sequence length\n",
        "sequence_length = 40\n",
        "\n",
        "# Create 40-frame sequences\n",
        "num_sequences = data.shape[1] // sequence_length\n",
        "sequences = [data[:, i * sequence_length:(i + 1) * sequence_length, :] for i in range(num_sequences)]\n",
        "sequences = np.array(sequences)\n",
        "\n",
        "np.save(\"/content/dance_sequences.npy\", sequences)\n",
        "print(f\"Extracted {len(sequences)} sequences, each of shape {sequences.shape[1:]}\")\n"
      ],
      "metadata": {
        "colab": {
          "base_uri": "https://localhost:8080/"
        },
        "id": "NLv1OIV0RTL3",
        "outputId": "4dec27c6-4d4e-4d2e-9353-90cf81b8f6f3"
      },
      "execution_count": null,
      "outputs": [
        {
          "output_type": "stream",
          "name": "stdout",
          "text": [
            "Extracted 273 sequences, each of shape (55, 40, 3)\n"
          ]
        }
      ]
    },
    {
      "cell_type": "code",
      "source": [
        "import json\n",
        "\n",
        "sequences = np.load(\"/content/dance_sequences.npy\")\n",
        "\n",
        "\n",
        "\n",
        "manual_labels = {}\n",
        "\n",
        "for idx in range(30):\n",
        "    sequence = sequences[idx]\n",
        "\n",
        "    label = input(f\"Enter label for sequence {idx}: \")\n",
        "    manual_labels[idx] = label\n",
        "\n",
        "with open(\"/content/manual_labels.json\", \"w\") as f:\n",
        "    json.dump(manual_labels, f)\n",
        "\n",
        "print(\"Manual labeling complete. Labels saved.\")\n"
      ],
      "metadata": {
        "colab": {
          "base_uri": "https://localhost:8080/"
        },
        "id": "rbhpgcNCRnAC",
        "outputId": "0db693ee-9524-45d9-9351-a8f496113b15"
      },
      "execution_count": null,
      "outputs": [
        {
          "output_type": "stream",
          "name": "stdout",
          "text": [
            "Enter label for sequence 0: stand\n",
            "Enter label for sequence 1: stand\n",
            "Enter label for sequence 2: stand\n",
            "Enter label for sequence 3: stand\n",
            "Enter label for sequence 4: stand\n",
            "Enter label for sequence 5: stand\n",
            "Enter label for sequence 6: walk\n",
            "Enter label for sequence 7: walk\n",
            "Enter label for sequence 8: walk\n",
            "Enter label for sequence 9: lie_down\n",
            "Enter label for sequence 10: lie_down\n",
            "Enter label for sequence 11: lie_down\n",
            "Enter label for sequence 12: lie_down\n",
            "Enter label for sequence 13: lie_down\n",
            "Enter label for sequence 14: lie_down\n",
            "Enter label for sequence 15: lie_down\n",
            "Enter label for sequence 16: flip_horizontaly\n",
            "Enter label for sequence 17: lie_down\n",
            "Enter label for sequence 18: raise_hand\n",
            "Enter label for sequence 19: flip_horizontaly\n",
            "Enter label for sequence 20: flip_horizontaly\n",
            "Enter label for sequence 21: sleep_dance\n",
            "Enter label for sequence 22: stand\n",
            "Enter label for sequence 23: stand_dance\n",
            "Enter label for sequence 24: stand_dance\n",
            "Enter label for sequence 25: stand_dance\n",
            "Enter label for sequence 26: stand_dance\n",
            "Enter label for sequence 27: stand_dance\n",
            "Enter label for sequence 28: stand_dance\n",
            "Enter label for sequence 29: stand_dance\n",
            "Manual labeling complete. Labels saved.\n"
          ]
        }
      ]
    },
    {
      "cell_type": "code",
      "source": [
        "from sklearn.decomposition import PCA\n",
        "from sklearn.cluster import KMeans\n",
        "\n",
        "# Convert sequences to features using motion differences\n",
        "features = np.mean(np.diff(sequences, axis=2), axis=2).reshape(len(sequences), -1)\n",
        "\n",
        "# Reduce dimensionality\n",
        "pca = PCA(n_components=10)\n",
        "features_reduced = pca.fit_transform(features)\n",
        "\n",
        "# Applying KMeans Clustering\n",
        "num_clusters = 10\n",
        "kmeans = KMeans(n_clusters=num_clusters, random_state=42)\n",
        "clusters = kmeans.fit_predict(features_reduced)\n",
        "\n",
        "# Assign labels based on cluster similarity\n",
        "with open(\"/content/manual_labels.json\", \"r\") as f:\n",
        "    manual_labels = json.load(f)\n",
        "\n",
        "cluster_labels = {}\n",
        "for idx, label in manual_labels.items():\n",
        "    idx = int(idx)\n",
        "    cluster_labels[clusters[idx]] = label\n",
        "\n",
        "sequence_labels = [cluster_labels.get(c, \"unknown\") for c in clusters]\n",
        "\n",
        "\n",
        "with open(\"/content/auto_labels.json\", \"w\") as f:\n",
        "    json.dump(sequence_labels, f)\n",
        "\n",
        "print(\"Auto-labeling complete. Labels saved.\")\n"
      ],
      "metadata": {
        "colab": {
          "base_uri": "https://localhost:8080/"
        },
        "id": "bc91JlcszDhu",
        "outputId": "b94cb948-01dc-43a3-a4f7-927b99f55fa6"
      },
      "execution_count": null,
      "outputs": [
        {
          "output_type": "stream",
          "name": "stdout",
          "text": [
            "Auto-labeling complete. Labels saved.\n"
          ]
        }
      ]
    },
    {
      "cell_type": "code",
      "source": [
        "import torch\n",
        "import torch.nn as nn\n",
        "import torch.optim as optim\n",
        "import numpy as np\n",
        "import json\n",
        "\n",
        "class DanceTextContrastiveModel(nn.Module):\n",
        "    def __init__(self):\n",
        "        super().__init__()\n",
        "        self.dance_encoder = nn.Sequential(\n",
        "            nn.Linear(55 * 40 * 3, 512),\n",
        "            nn.ReLU(),\n",
        "            nn.Linear(512, 256),\n",
        "        )\n",
        "        self.text_embedding = nn.Embedding(1000, 256)\n",
        "        self.text_encoder = nn.LSTM(256, 256, batch_first=True)\n",
        "\n",
        "    def forward(self, dance, text):\n",
        "        # Dance Encoder\n",
        "        dance_embedding = self.dance_encoder(dance)\n",
        "\n",
        "        # Text Encoder\n",
        "        text_embedded = self.text_embedding(text)  # Convert text input to embeddings\n",
        "        lstm_out, _ = self.text_encoder(text_embedded)  # Process through LSTM\n",
        "        text_embedding = lstm_out[:, -1, :]  # Take last LSTM output\n",
        "\n",
        "        return dance_embedding, text_embedding\n",
        "\n",
        "# Contrastive Loss Function\n",
        "def contrastive_loss(dance_emb, text_emb):\n",
        "    return -torch.cosine_similarity(dance_emb, text_emb).mean()\n",
        "\n",
        "# (Shape: [num_samples, 55, 40, 3])\n",
        "sequences = np.load(\"/content/dance_sequences.npy\")\n",
        "sequences = sequences.reshape(len(sequences), -1)\n",
        "\n",
        "#Labels\n",
        "with open(\"/content/auto_labels.json\", \"r\") as f:\n",
        "    labels = json.load(f)\n",
        "\n",
        "# Convert Text Labels to Tokens\n",
        "word_to_index = {word: idx for idx, word in enumerate(set(labels))}\n",
        "text_inputs = [word_to_index[label] for label in labels]\n",
        "text_inputs = torch.tensor(text_inputs, dtype=torch.long).unsqueeze(1)\n",
        "\n",
        "dance_data = torch.tensor(sequences, dtype=torch.float32)\n",
        "\n",
        "# Initialize Model and Optimizer\n",
        "model = DanceTextContrastiveModel()\n",
        "optimizer = optim.Adam(model.parameters(), lr=0.001)\n",
        "\n",
        "# Training\n",
        "num_epochs = 20\n",
        "for epoch in range(num_epochs):\n",
        "    optimizer.zero_grad()\n",
        "    dance_emb, text_emb = model(dance_data, text_inputs)\n",
        "    loss = contrastive_loss(dance_emb, text_emb)\n",
        "    loss.backward()\n",
        "    optimizer.step()\n",
        "    print(f\"Epoch {epoch+1}, Loss: {loss.item()}\")\n",
        "\n",
        "print(\"Training complete!\")\n",
        "\n",
        "torch.save(model.state_dict(), \"/content/dance_text_model.pth\")\n",
        "print(\"Model saved!\")\n"
      ],
      "metadata": {
        "colab": {
          "base_uri": "https://localhost:8080/"
        },
        "id": "ND-BK8aU4Rk-",
        "outputId": "1b7f3ede-f903-4aad-89b2-567620678793"
      },
      "execution_count": null,
      "outputs": [
        {
          "output_type": "stream",
          "name": "stdout",
          "text": [
            "Epoch 1, Loss: -0.063943050801754\n",
            "Epoch 2, Loss: -0.5137917995452881\n",
            "Epoch 3, Loss: -0.6824116706848145\n",
            "Epoch 4, Loss: -0.7670229077339172\n",
            "Epoch 5, Loss: -0.81571364402771\n",
            "Epoch 6, Loss: -0.8505261540412903\n",
            "Epoch 7, Loss: -0.8784983158111572\n",
            "Epoch 8, Loss: -0.9011996984481812\n",
            "Epoch 9, Loss: -0.9189996719360352\n",
            "Epoch 10, Loss: -0.9324604272842407\n",
            "Epoch 11, Loss: -0.9424901008605957\n",
            "Epoch 12, Loss: -0.950090765953064\n",
            "Epoch 13, Loss: -0.9560830593109131\n",
            "Epoch 14, Loss: -0.9610079526901245\n",
            "Epoch 15, Loss: -0.96517014503479\n",
            "Epoch 16, Loss: -0.968743085861206\n",
            "Epoch 17, Loss: -0.9718512892723083\n",
            "Epoch 18, Loss: -0.9745963215827942\n",
            "Epoch 19, Loss: -0.9770501255989075\n",
            "Epoch 20, Loss: -0.9792491793632507\n",
            "Training complete!\n",
            "Model saved!\n"
          ]
        }
      ]
    },
    {
      "cell_type": "code",
      "source": [
        "from google.colab import files\n",
        "files.download(\"/content/dance_text_model.pth\")\n"
      ],
      "metadata": {
        "colab": {
          "base_uri": "https://localhost:8080/",
          "height": 17
        },
        "id": "BIfxyyv_41lJ",
        "outputId": "bbbb4298-e45d-4f4b-aebe-66db84135e04"
      },
      "execution_count": null,
      "outputs": [
        {
          "output_type": "display_data",
          "data": {
            "text/plain": [
              "<IPython.core.display.Javascript object>"
            ],
            "application/javascript": [
              "\n",
              "    async function download(id, filename, size) {\n",
              "      if (!google.colab.kernel.accessAllowed) {\n",
              "        return;\n",
              "      }\n",
              "      const div = document.createElement('div');\n",
              "      const label = document.createElement('label');\n",
              "      label.textContent = `Downloading \"${filename}\": `;\n",
              "      div.appendChild(label);\n",
              "      const progress = document.createElement('progress');\n",
              "      progress.max = size;\n",
              "      div.appendChild(progress);\n",
              "      document.body.appendChild(div);\n",
              "\n",
              "      const buffers = [];\n",
              "      let downloaded = 0;\n",
              "\n",
              "      const channel = await google.colab.kernel.comms.open(id);\n",
              "      // Send a message to notify the kernel that we're ready.\n",
              "      channel.send({})\n",
              "\n",
              "      for await (const message of channel.messages) {\n",
              "        // Send a message to notify the kernel that we're ready.\n",
              "        channel.send({})\n",
              "        if (message.buffers) {\n",
              "          for (const buffer of message.buffers) {\n",
              "            buffers.push(buffer);\n",
              "            downloaded += buffer.byteLength;\n",
              "            progress.value = downloaded;\n",
              "          }\n",
              "        }\n",
              "      }\n",
              "      const blob = new Blob(buffers, {type: 'application/binary'});\n",
              "      const a = document.createElement('a');\n",
              "      a.href = window.URL.createObjectURL(blob);\n",
              "      a.download = filename;\n",
              "      div.appendChild(a);\n",
              "      a.click();\n",
              "      div.remove();\n",
              "    }\n",
              "  "
            ]
          },
          "metadata": {}
        },
        {
          "output_type": "display_data",
          "data": {
            "text/plain": [
              "<IPython.core.display.Javascript object>"
            ],
            "application/javascript": [
              "download(\"download_0df58cbd-d90c-4f37-8175-9b7a6dff860b\", \"dance_text_model.pth\", 17177265)"
            ]
          },
          "metadata": {}
        }
      ]
    },
    {
      "cell_type": "code",
      "source": [
        "# state_dict = torch.load(\"dance_text_model.pth\")\n",
        "# print(state_dict.keys())\n"
      ],
      "metadata": {
        "colab": {
          "base_uri": "https://localhost:8080/"
        },
        "id": "jkSEPCoo7lqo",
        "outputId": "99cf08dd-ae6a-4ca2-dd23-09266c0f410c"
      },
      "execution_count": null,
      "outputs": [
        {
          "output_type": "stream",
          "name": "stdout",
          "text": [
            "odict_keys(['dance_encoder.0.weight', 'dance_encoder.0.bias', 'dance_encoder.2.weight', 'dance_encoder.2.bias', 'text_embedding.weight', 'text_encoder.weight_ih_l0', 'text_encoder.weight_hh_l0', 'text_encoder.bias_ih_l0', 'text_encoder.bias_hh_l0'])\n"
          ]
        }
      ]
    },
    {
      "cell_type": "code",
      "source": [
        "state_dict = torch.load(\"dance_text_model.pth\")\n",
        "\n",
        "# Rename mismatched keys\n",
        "new_state_dict = {}\n",
        "for k, v in state_dict.items():\n",
        "    if k.startswith(\"text_embedding\"):\n",
        "        new_key = k.replace(\"text_embedding\", \"text_encoder.0\")\n",
        "    elif k.startswith(\"text_encoder\"):\n",
        "        new_key = k.replace(\"text_encoder\", \"text_encoder.1\")\n",
        "    else:\n",
        "        new_key = k\n",
        "    new_state_dict[new_key] = v\n",
        "\n",
        "# Load fixed state dictionary\n",
        "model.load_state_dict(new_state_dict, strict=False)\n"
      ],
      "metadata": {
        "colab": {
          "base_uri": "https://localhost:8080/"
        },
        "id": "bSGFfEe_74cR",
        "outputId": "59672c9e-3047-4b11-ce86-c0c5b3c08aa6"
      },
      "execution_count": null,
      "outputs": [
        {
          "output_type": "execute_result",
          "data": {
            "text/plain": [
              "_IncompatibleKeys(missing_keys=['text_encoder.2.weight', 'text_encoder.2.bias'], unexpected_keys=[])"
            ]
          },
          "metadata": {},
          "execution_count": 20
        }
      ]
    },
    {
      "cell_type": "code",
      "source": [
        "import torch\n",
        "import torch.nn as nn\n",
        "\n",
        "class DanceTextContrastiveModel(nn.Module):\n",
        "    def __init__(self):\n",
        "        super().__init__()\n",
        "        self.dance_encoder = nn.Sequential(\n",
        "            nn.Linear(55 * 40 * 3, 512),  # 6600 = 55*40*3\n",
        "            nn.ReLU(),\n",
        "            nn.Linear(512, 256),\n",
        "        )\n",
        "        self.text_embedding = nn.Embedding(1000, 256)  # This must match\n",
        "        self.text_encoder = nn.LSTM(256, 256)\n",
        "\n",
        "    def forward(self, dance, text):\n",
        "        dance_embedding = self.dance_encoder(dance)\n",
        "        text_embedded = self.text_embedding(text)\n",
        "        text_output, _ = self.text_encoder(text_embedded)\n",
        "        text_embedding = text_output[:, -1, :]\n",
        "        return dance_embedding, text_embedding\n",
        "\n",
        "# Load model\n",
        "model = DanceTextContrastiveModel()\n",
        "model.load_state_dict(torch.load(\"dance_text_model.pth\"))\n",
        "model.eval()\n",
        "print(\"Model loaded successfully!\")\n"
      ],
      "metadata": {
        "colab": {
          "base_uri": "https://localhost:8080/"
        },
        "id": "Nmo43bBO8aUx",
        "outputId": "b11fe439-6635-45cc-f482-0f0d9714c473"
      },
      "execution_count": null,
      "outputs": [
        {
          "output_type": "stream",
          "name": "stdout",
          "text": [
            "Model loaded successfully!\n"
          ]
        }
      ]
    },
    {
      "cell_type": "code",
      "source": [
        "import torch\n",
        "import numpy as np\n",
        "\n",
        "model = DanceTextContrastiveModel()\n",
        "model.load_state_dict(torch.load(\"dance_text_model.pth\"))\n",
        "model.eval()\n",
        "\n",
        "#only first 500 frames\n",
        "test_dance_sequence = np.load(\"/content/mariel_penelope.npy\")[:500]\n",
        "\n",
        "#40 frames each\n",
        "test_dance_sequence = test_dance_sequence[:, :40, :]\n",
        "\n",
        "# Convert dance sequence to tensor\n",
        "dance_tensor = torch.tensor(test_dance_sequence.reshape(1, -1), dtype=torch.float32)\n",
        "\n",
        "with torch.no_grad():\n",
        "    dance_embedding, _ = model(dance_tensor, torch.zeros(1, dtype=torch.long).unsqueeze(0))\n",
        "\n",
        "# Compute similarity with all text embeddings\n",
        "all_text_embeddings = []\n",
        "for label in word_to_index.keys():\n",
        "    text_tensor = torch.tensor([word_to_index[label]], dtype=torch.long).unsqueeze(0)\n",
        "    # Dummy dance input\n",
        "    _, text_emb = model(torch.zeros(1, 6600), text_tensor)\n",
        "    all_text_embeddings.append(text_emb.detach().numpy())\n",
        "\n",
        "\n",
        "# Convert to numpy\n",
        "all_text_embeddings = np.array(all_text_embeddings).squeeze()\n",
        "dance_embedding_np = dance_embedding.numpy().squeeze()\n",
        "\n",
        "# Find closest text label using cosine similarity\n",
        "cosine_sim = np.dot(all_text_embeddings, dance_embedding_np) / (\n",
        "    np.linalg.norm(all_text_embeddings, axis=1) * np.linalg.norm(dance_embedding_np)\n",
        ")\n",
        "closest_text = list(word_to_index.keys())[np.argmax(cosine_sim)]\n",
        "\n",
        "print(\"Predicted Text Label:\", closest_text)"
      ],
      "metadata": {
        "colab": {
          "base_uri": "https://localhost:8080/"
        },
        "id": "bjgbfXIT77rF",
        "outputId": "cc5cf719-9950-4d94-b280-5c772143d00d"
      },
      "execution_count": null,
      "outputs": [
        {
          "output_type": "stream",
          "name": "stdout",
          "text": [
            "Predicted Text Label: stand_dance\n"
          ]
        }
      ]
    },
    {
      "cell_type": "code",
      "source": [
        "import torch\n",
        "import numpy as np\n",
        "\n",
        "model = DanceTextContrastiveModel()\n",
        "model.load_state_dict(torch.load(\"dance_text_model.pth\"))\n",
        "model.eval()\n",
        "\n",
        "def generate_dance_from_text(input_text):\n",
        "    if input_text not in word_to_index:\n",
        "        raise ValueError(f\"Text '{input_text}' not in vocabulary!\")\n",
        "\n",
        "    # Convert text to tensor\n",
        "    text_tensor = torch.tensor([word_to_index[input_text]], dtype=torch.long).unsqueeze(0)\n",
        "\n",
        "    # Get dance embedding\n",
        "    with torch.no_grad():\n",
        "        _, text_embedding = model(torch.zeros(1, 6600), text_tensor)\n",
        "\n",
        "    # using a linear layer to map to the desired dance sequence shape\n",
        "    decoder = nn.Linear(text_embedding.shape[1], 55 * 40 * 3) #decoder layer\n",
        "    dance_embedding = decoder(text_embedding) # Decode text embedding\n",
        "\n",
        "    generated_dance_sequence = dance_embedding.detach().reshape(1, 55, 40, 3).cpu().numpy()[0]\n",
        "\n",
        "    return generated_dance_sequence\n",
        "\n",
        "input_text = \"stand_dance\"\n",
        "generated_dance = generate_dance_from_text(input_text)\n",
        "\n",
        "np.save(\"generated_dance.npy\", generated_dance)\n",
        "\n",
        "print(f\"Generated dance sequence for '{input_text}' saved as 'generated_dance.npy'\")"
      ],
      "metadata": {
        "colab": {
          "base_uri": "https://localhost:8080/"
        },
        "id": "eOv5I5cc9tFV",
        "outputId": "d96466ff-1f7e-4aae-ea74-8fd17c05afa0"
      },
      "execution_count": null,
      "outputs": [
        {
          "output_type": "stream",
          "name": "stdout",
          "text": [
            "Generated dance sequence for 'stand_dance' saved as 'generated_dance.npy'\n"
          ]
        }
      ]
    }
  ]
}